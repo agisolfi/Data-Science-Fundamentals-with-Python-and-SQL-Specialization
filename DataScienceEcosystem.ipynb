{
 "cells": [
  {
   "cell_type": "markdown",
   "id": "7ffbad4b-4099-455f-8c46-1f1e2524fd3a",
   "metadata": {},
   "source": [
    "# Data Science Tools and Ecosystem"
   ]
  },
  {
   "cell_type": "markdown",
   "id": "b54f90c7-7d5a-4e0e-9f36-d7a3f7f97771",
   "metadata": {},
   "source": [
    "## In this notebook, Data Science Tools and Ecosystem are summarized.\n"
   ]
  },
  {
   "cell_type": "markdown",
   "id": "d9b1d430-c6ab-4777-b95f-1502628f9c36",
   "metadata": {},
   "source": [
    "**Objectives**\n",
    "* List popular languages that Data Scientists use\n",
    "* List commonly used libraries by data Scientists\n",
    "* Perform algorthmic code via python\n",
    "* Utilize Markdown to organize a juptyer notebook"
   ]
  },
  {
   "cell_type": "markdown",
   "id": "92fdf6aa-6870-4e7a-9343-40af5d0ca9ce",
   "metadata": {},
   "source": [
    "#### Some of the popular languages that Data Scientists use are:\n",
    "1. Python\n",
    "2. SQL\n",
    "3. R\n",
    "4. Java\n",
    "5. Julia\n",
    "\n"
   ]
  },
  {
   "cell_type": "markdown",
   "id": "773777be-d08f-40ff-9cf8-f877d79af70d",
   "metadata": {},
   "source": [
    "#### Some of the commonly used libraries used by Data Scientists include:\n",
    "1. SciPy\n",
    "2. NumPy\n",
    "3. Pandas\n",
    "4. Matplotlib\n",
    "5. Pytorch"
   ]
  },
  {
   "cell_type": "markdown",
   "id": "ebcb5995-9d9b-4509-a8ca-89a7f7680350",
   "metadata": {},
   "source": [
    "|Data Science Tools|\n",
    "|------------------|\n",
    "|Juptyer|\n",
    "|TensorFlow|\n",
    "|Apache Spark|"
   ]
  },
  {
   "cell_type": "markdown",
   "id": "f59ead02-2f4e-4984-80fe-e1d431e4281e",
   "metadata": {},
   "source": [
    "### Below are a few examples of evaluating arithmetic expressions in Python"
   ]
  },
  {
   "cell_type": "code",
   "execution_count": 2,
   "id": "9ec629b3-5ccf-4ed3-a45d-e781f09d9840",
   "metadata": {},
   "outputs": [
    {
     "data": {
      "text/plain": [
       "17"
      ]
     },
     "execution_count": 2,
     "metadata": {},
     "output_type": "execute_result"
    }
   ],
   "source": [
    "#This a simple arithmetic expression to mutiply then add integers\n",
    "(3*4)+5"
   ]
  },
  {
   "cell_type": "code",
   "execution_count": 3,
   "id": "9b7919ce-1612-4e83-81ab-6f79012cec9f",
   "metadata": {},
   "outputs": [
    {
     "data": {
      "text/plain": [
       "3.3333333333333335"
      ]
     },
     "execution_count": 3,
     "metadata": {},
     "output_type": "execute_result"
    }
   ],
   "source": [
    "#This will convert 200 minutes to hours by diving by 60\n",
    "200/60"
   ]
  },
  {
   "cell_type": "markdown",
   "id": "28d19057-5812-4aac-9a55-aa3b080c0752",
   "metadata": {},
   "source": [
    "## Author\n",
    "Anthony Gisolfi"
   ]
  }
 ],
 "metadata": {
  "kernelspec": {
   "display_name": "Python 3 (ipykernel)",
   "language": "python",
   "name": "python3"
  },
  "language_info": {
   "codemirror_mode": {
    "name": "ipython",
    "version": 3
   },
   "file_extension": ".py",
   "mimetype": "text/x-python",
   "name": "python",
   "nbconvert_exporter": "python",
   "pygments_lexer": "ipython3",
   "version": "3.9.13"
  }
 },
 "nbformat": 4,
 "nbformat_minor": 5
}
